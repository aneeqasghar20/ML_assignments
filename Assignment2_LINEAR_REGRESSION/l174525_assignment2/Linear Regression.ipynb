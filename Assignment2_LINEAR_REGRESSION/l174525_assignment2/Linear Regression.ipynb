{
 "cells": [
  {
   "cell_type": "code",
   "execution_count": 22,
   "metadata": {},
   "outputs": [],
   "source": [
    "import pandas as pd\n",
    "import matplotlib.pyplot as plt\n",
    "import numpy as np\n",
    "\n",
    "df = pd.read_csv('D:\\Fall_2020\\Applied_Machine_Learning\\Assignment_2\\kc_house_data.csv')\n",
    "df_TR=pd.read_csv('D:\\Fall_2020\\Applied_Machine_Learning\\Assignment_2\\kc_house_test_data.csv')\n",
    "df_TE=pd.read_csv('D:\\Fall_2020\\Applied_Machine_Learning\\Assignment_2\\kc_house_train_data.csv')"
   ]
  },
  {
   "cell_type": "code",
   "execution_count": 23,
   "metadata": {},
   "outputs": [],
   "source": [
    "def gradientDescent(x, y, learning_rate, iterations):\n",
    "    totalfeatures = x.shape[1]                        #getting the number of columns in the input matrix\n",
    "    tempParameters = np.zeros((totalfeatures, 1))     #matrix of parameters with thetas equal to the number of features \n",
    "    parameters = tempParameters\n",
    "    \n",
    "    m = x.shape[0]               #total number of samples in the training set\n",
    "    \n",
    "    costArr = np.zeros((iterations, 1))\n",
    "    \n",
    "    for i in range(iterations):\n",
    "        hypothesis = np.dot(x, parameters)                                  \n",
    "        cost = (1/(2*m))*sum((y - hypothesis)**2)                           \n",
    "        err = (((abs(y - hypothesis)) / y).mean()) * 100                  \n",
    "        for j in range(totalfeatures):\n",
    "            tempParameters[j,0] = parameters[j,0] - (learning_rate*((-1/m)*sum(np.dot(x[:,j], (y - hypothesis)))))     \n",
    "        parameters = np.copy(tempParameters)\n",
    "        #print(\"iteration {}, cost = {}, err = {} %\".format(i, cost, err))\n",
    "        \n",
    "        costArr[i] = cost\n",
    "    \n",
    "    print(\"Final cost = {}\".format(cost[-1]))\n",
    "    print(\"Final err = {} %\".format(err))\n",
    "    \n",
    "    itr = np.arange(0, iterations, 1)\n",
    "    itr = np.reshape(itr, (-1,1))\n",
    "    plt.scatter(itr, costArr)\n",
    "    plt.xlabel(\"iteration\")\n",
    "    plt.ylabel(\"cost\")\n",
    "    plt.show()\n",
    "    \n",
    "    return parameters"
   ]
  },
  {
   "cell_type": "code",
   "execution_count": 24,
   "metadata": {},
   "outputs": [],
   "source": [
    "def predictOutput(parameters, x):\n",
    "    output = np.dot(x, parameters)\n",
    "    return output"
   ]
  },
  {
   "cell_type": "code",
   "execution_count": 25,
   "metadata": {},
   "outputs": [],
   "source": [
    "def slrData_sqft_living():\n",
    "    df = pd.read_csv('D:\\Fall_2020\\Applied_Machine_Learning\\Assignment_2\\kc_house_data.csv')\n",
    "    df_train = pd.read_csv('D:\\Fall_2020\\Applied_Machine_Learning\\Assignment_2\\kc_house_train_data.csv')\n",
    "    df_test = pd.read_csv('D:\\Fall_2020\\Applied_Machine_Learning\\Assignment_2\\kc_house_test_data.csv')\n",
    "    \n",
    "    x_train = df_train['sqft_living']                   #training input feature dataframe\n",
    "    x_train = (df_train['sqft_living'] - df_train['sqft_living'].mean()) / df_train['sqft_living'].std()      #normalization\n",
    "    y_train = df_train['price']                         #training output feature dataframe\n",
    "\n",
    "    x_test = df_test['sqft_living']                     #testing input feature dataframe\n",
    "    x_test = (df_test['sqft_living'] - df_test['sqft_living'].mean()) / df_test['sqft_living'].std()          #normalization\n",
    "    y_test = df_test['price']                           #testing output feature dataframe\n",
    "    \n",
    "    np_x_train = x_train.values                         #normalized training input feature numpy array                       \n",
    "    np_y_train = y_train.values                         #training output feature numpy array\n",
    "\n",
    "    np_x_test = x_test.values                           #normalized testing input feature numpy array                       \n",
    "    np_y_test = y_test.values                           #testing output feature numpy array\n",
    "\n",
    "    np_y_train = np.reshape(np_y_train, (-1, 1))        #convering to 2D array\n",
    "    np_y_test = np.reshape(np_y_test, (-1, 1))          #convering to 2D array\n",
    "    \n",
    "    totalsamples = np_x_train.shape[0]                     #total samples (17384) \n",
    "    columnofones = np.ones((totalsamples, 1))\n",
    "\n",
    "    x = np.c_[columnofones, np_x_train]                    #(17384, 2)\n",
    "    y = np.reshape(np_y_train, (-1, 1))                    #(17384, 1)\n",
    "    \n",
    "    return np_x_train, np_y_train, np_x_test, np_y_test, x, y"
   ]
  },
  {
   "cell_type": "code",
   "execution_count": 26,
   "metadata": {},
   "outputs": [],
   "source": [
    "def slrData_bedrooms():\n",
    "    df = pd.read_csv('D:\\Fall_2020\\Applied_Machine_Learning\\Assignment_2\\kc_house_data.csv')\n",
    "    df_train = pd.read_csv('D:\\Fall_2020\\Applied_Machine_Learning\\Assignment_2\\kc_house_train_data.csv')\n",
    "    df_test = pd.read_csv('D:\\Fall_2020\\Applied_Machine_Learning\\Assignment_2\\kc_house_test_data.csv')\n",
    "    \n",
    "    x_train = df_train['bedrooms']                      #training input feature dataframe\n",
    "    x_train = (df_train['bedrooms'] - df_train['bedrooms'].mean()) / df_train['bedrooms'].std()      #normalization\n",
    "    y_train = df_train['price']                         #training output feature dataframe\n",
    "\n",
    "    x_test = df_test['bedrooms']                        #testing input feature dataframe\n",
    "    x_test = (df_test['bedrooms'] - df_test['bedrooms'].mean()) / df_test['bedrooms'].std()          #normalization\n",
    "    y_test = df_test['price']                           #testing output feature dataframe\n",
    "    \n",
    "    np_x_train = x_train.values                         #normalized training input feature numpy array                       \n",
    "    np_y_train = y_train.values                         #training output feature numpy array\n",
    "\n",
    "    np_x_test = x_test.values                           #normalized testing input feature numpy array                       \n",
    "    np_y_test = y_test.values                           #testing output feature numpy array\n",
    "\n",
    "    np_y_train = np.reshape(np_y_train, (-1, 1))        #convering to 2D array\n",
    "    np_y_test = np.reshape(np_y_test, (-1, 1))          #convering to 2D array\n",
    "    \n",
    "    totalsamples = np_x_train.shape[0]                     #total samples (17384) \n",
    "    columnofones = np.ones((totalsamples, 1))\n",
    "\n",
    "    x = np.c_[columnofones, np_x_train]                    #(17384, 2)\n",
    "    y = np.reshape(np_y_train, (-1, 1))                    #(17384, 1)\n",
    "    \n",
    "    return np_x_train, np_y_train, np_x_test, np_y_test, x, y"
   ]
  },
  {
   "cell_type": "code",
   "execution_count": 27,
   "metadata": {},
   "outputs": [],
   "source": [
    "def mlrData():\n",
    "    df = pd.read_csv('D:\\Fall_2020\\Applied_Machine_Learning\\Assignment_2\\kc_house_data.csv')\n",
    "    df_train = pd.read_csv('D:\\Fall_2020\\Applied_Machine_Learning\\Assignment_2\\kc_house_train_data.csv')\n",
    "    df_test = pd.read_csv('D:\\Fall_2020\\Applied_Machine_Learning\\Assignment_2\\kc_house_test_data.csv')\n",
    "\n",
    "    df_train.drop(columns = ['id', 'sqft_lot', 'condition', 'yr_built', 'zipcode', 'long', 'sqft_lot15', 'date', 'floors', 'waterfront', 'yr_renovated', 'sqft_living15'], inplace = True)\n",
    "    df_test.drop(columns = ['id', 'sqft_lot', 'condition', 'yr_built', 'zipcode', 'long', 'sqft_lot15', 'date', 'floors', 'waterfront', 'yr_renovated', 'sqft_living15'], inplace = True)\n",
    "\n",
    "    x_train = df_train.drop(columns = ['price'])                 #training input feature dataframe\n",
    "    x_train = (x_train - x_train.mean()) / x_train.std()         #normalization\n",
    "    x_train[['sqft_living']] = x_train[['sqft_living']]**2\n",
    "    y_train = df_train['price']                                  #training output feature dataframe\n",
    "\n",
    "    x_test = df_test.drop(columns = ['price'])                   #testing input feature dataframe\n",
    "    x_test = (x_test - x_test.mean()) / x_test.std()             #normalization\n",
    "    x_test[['sqft_living']] = x_test[['sqft_living']]**2\n",
    "    y_test = df_test['price']                                    #testing output feature dataframe\n",
    "    \n",
    "    np_x_train = x_train.values                         #normalized training input feature numpy array                       \n",
    "    np_y_train = y_train.values                         #training output feature numpy array\n",
    "\n",
    "    np_x_test = x_test.values                           #normalized testing input feature numpy array                       \n",
    "    np_y_test = y_test.values                           #testing output feature numpy array\n",
    "\n",
    "    np_y_train = np.reshape(np_y_train, (-1, 1))        #convering to 2D array\n",
    "    np_y_test = np.reshape(np_y_test, (-1, 1))          #convering to 2D array\n",
    "    \n",
    "    totalsamples = np_x_train.shape[0]                     #total samples (17384) \n",
    "    columnofones = np.ones((totalsamples, 1))\n",
    "\n",
    "    x = np.c_[columnofones, np_x_train]                    #(17384, 8)\n",
    "    y = np.reshape(np_y_train, (-1, 1))                    #(17384, 1)\n",
    "    \n",
    "    return np_x_train, np_y_train, np_x_test, np_y_test, x, y\n"
   ]
  },
  {
   "cell_type": "code",
   "execution_count": 28,
   "metadata": {},
   "outputs": [],
   "source": [
    "np_x_train, np_y_train, np_x_test, np_y_test, x, y = slrData_sqft_living()          #loading data for SLR using sqft_living"
   ]
  },
  {
   "cell_type": "code",
   "execution_count": 35,
   "metadata": {},
   "outputs": [],
   "source": [
    "np_x_train, np_y_train, np_x_test, np_y_test, a, b = slrData_bedrooms()"
   ]
  },
  {
   "cell_type": "code",
   "execution_count": 40,
   "metadata": {},
   "outputs": [],
   "source": [
    "np_x_train, np_y_train, np_x_test, np_y_test,c, d = mlrData()  "
   ]
  },
  {
   "cell_type": "code",
   "execution_count": 37,
   "metadata": {},
   "outputs": [
    {
     "name": "stdout",
     "output_type": "stream",
     "text": [
      "Final cost = 24399353725.06431\n",
      "Final err = 22.964382579765704 %\n"
     ]
    },
    {
     "data": {
      "image/png": "[encoded data removed]",
      "text/plain": [
       "<Figure size 432x288 with 1 Axes>"
      ]
     },
     "metadata": {
      "needs_background": "light"
     },
     "output_type": "display_data"
    },
    {
     "name": "stdout",
     "output_type": "stream",
     "text": [
      "Parameters = [[439706.24239073]\n",
      " [ 12814.66006711]\n",
      " [ 28851.53881235]\n",
      " [ 48523.74027286]\n",
      " [ 65090.71936489]\n",
      " [ 99145.96545434]\n",
      " [ 42243.10068334]\n",
      " [ 27021.15708287]\n",
      " [ 85582.04086385]]\n"
     ]
    }
   ],
   "source": [
    "parameters = gradientDescent(x, y, 0.01, 250)        #SLR using sqft_living\n",
    "print(\"Parameters = {}\".format(parameters))"
   ]
  },
  {
   "cell_type": "code",
   "execution_count": 39,
   "metadata": {},
   "outputs": [
    {
     "name": "stdout",
     "output_type": "stream",
     "text": [
      "Final cost = 62664152046.4215\n",
      "Final err = 43.836466841987146 %\n"
     ]
    },
    {
     "data": {
      "image/png": "[encoded data removed]",
      "text/plain": [
       "<Figure size 432x288 with 1 Axes>"
      ]
     },
     "metadata": {
      "needs_background": "light"
     },
     "output_type": "display_data"
    },
    {
     "name": "stdout",
     "output_type": "stream",
     "text": [
      "Parameters = [[495646.36940602]\n",
      " [106279.0398064 ]]\n"
     ]
    }
   ],
   "source": [
    "parameters = gradientDescent(a, b, 0.01, 250)         #SLR using bedrooms\n",
    "print(\"Parameters = {}\".format(parameters))"
   ]
  },
  {
   "cell_type": "code",
   "execution_count": 59,
   "metadata": {},
   "outputs": [
    {
     "name": "stdout",
     "output_type": "stream",
     "text": [
      "Final cost = 22119716306.106598\n",
      "Final err = 24.39742415800725 %\n"
     ]
    },
    {
     "data": {
      "image/png": "[encoded data removed]",
      "text/plain": [
       "<Figure size 432x288 with 1 Axes>"
      ]
     },
     "metadata": {
      "needs_background": "light"
     },
     "output_type": "display_data"
    },
    {
     "name": "stdout",
     "output_type": "stream",
     "text": [
      "Parameters = [[505297.98436009]\n",
      " [ -2296.84227377]\n",
      " [  5452.4225748 ]\n",
      " [ 33635.77019237]\n",
      " [ 69303.88046068]\n",
      " [116299.24271175]\n",
      " [ 77409.22589816]\n",
      " [ 50004.43027546]\n",
      " [ 90067.44327491]]\n"
     ]
    }
   ],
   "source": [
    "parameters = gradientDescent(c, d, 0.01, 1000)       #MLR using selective features\n",
    "print(\"Parameters = {}\".format(parameters))"
   ]
  },
  {
   "cell_type": "code",
   "execution_count": 43,
   "metadata": {},
   "outputs": [
    {
     "name": "stdout",
     "output_type": "stream",
     "text": [
      "Train set error = 22.961641317353415 %\n"
     ]
    }
   ],
   "source": [
    "error = ((abs(np_y_train - y_predicted_train) / (np_y_train)).mean()) * 100\n",
    "print(\"Train set error = {} %\".format(error))"
   ]
  },
  {
   "cell_type": "code",
   "execution_count": 44,
   "metadata": {},
   "outputs": [],
   "source": [
    "totalsamples = np_x_test.shape[0]                     #total samples (4229) \n",
    "columnofones = np.ones((totalsamples, 1))\n",
    "x = np.c_[columnofones, np_x_test]                    #(4229, 8)\n",
    "\n",
    "y_predicted_test = predictOutput(parameters, x)"
   ]
  },
  {
   "cell_type": "code",
   "execution_count": 64,
   "metadata": {},
   "outputs": [
    {
     "name": "stdout",
     "output_type": "stream",
     "text": [
      "RSS = 192689628301675.44\n",
      "Test set error = 23.26472287775382 %\n"
     ]
    }
   ],
   "source": [
    "RSS = np.sum((y_predicted_test - np_y_test)**2)             #risidual sum of squares\n",
    "print(\"RSS = {}\".format(RSS))\n",
    "\n",
    "error = ((abs(np_y_test - y_predicted_test) / (np_y_test)).mean()) * 100\n",
    "print(\"Test set error = {} %\".format(error))"
   ]
  }
 ],
 "metadata": {
  "kernelspec": {
   "display_name": "Python 3",
   "language": "python",
   "name": "python3"
  },
  "language_info": {
   "codemirror_mode": {
    "name": "ipython",
    "version": 3
   },
   "file_extension": ".py",
   "mimetype": "text/x-python",
   "name": "python",
   "nbconvert_exporter": "python",
   "pygments_lexer": "ipython3",
   "version": "3.8.3"
  }
 },
 "nbformat": 4,
 "nbformat_minor": 4
}
